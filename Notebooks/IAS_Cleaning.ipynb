{
 "cells": [
  {
   "cell_type": "code",
   "execution_count": 36,
   "id": "07712df2-5d53-4a9c-89b4-5c336006099a",
   "metadata": {
    "id": "07712df2-5d53-4a9c-89b4-5c336006099a"
   },
   "outputs": [],
   "source": [
    "import numpy as np\n",
    "import pandas as pd\n",
    "from matplotlib import pyplot as plt\n",
    "import seaborn as sns\n",
    "import pandas as pd\n",
    "\n",
    "from warnings import filterwarnings\n",
    "filterwarnings('ignore')"
   ]
  },
  {
   "cell_type": "markdown",
   "id": "kIHmipaTihDv",
   "metadata": {
    "id": "kIHmipaTihDv"
   },
   "source": [
    "Loading Extracted Data"
   ]
  },
  {
   "cell_type": "code",
   "execution_count": 37,
   "id": "3967ffd7-1738-4906-841e-dda7b4edcf2d",
   "metadata": {
    "colab": {
     "base_uri": "https://localhost:8080/",
     "height": 501
    },
    "executionInfo": {
     "elapsed": 31,
     "status": "ok",
     "timestamp": 1714298512094,
     "user": {
      "displayName": "2023 18012",
      "userId": "12537447585000372464"
     },
     "user_tz": -330
    },
    "id": "3967ffd7-1738-4906-841e-dda7b4edcf2d",
    "outputId": "9ff66d00-2fda-4dbf-c4ab-4eb8110e619c",
    "scrolled": true
   },
   "outputs": [
    {
     "data": {
      "text/html": [
       "<div>\n",
       "<style scoped>\n",
       "    .dataframe tbody tr th:only-of-type {\n",
       "        vertical-align: middle;\n",
       "    }\n",
       "\n",
       "    .dataframe tbody tr th {\n",
       "        vertical-align: top;\n",
       "    }\n",
       "\n",
       "    .dataframe thead th {\n",
       "        text-align: right;\n",
       "    }\n",
       "</style>\n",
       "<table border=\"1\" class=\"dataframe\">\n",
       "  <thead>\n",
       "    <tr style=\"text-align: right;\">\n",
       "      <th></th>\n",
       "      <th>ID</th>\n",
       "      <th>Name</th>\n",
       "      <th>Gender</th>\n",
       "      <th>DOB</th>\n",
       "      <th>Date of Appointment</th>\n",
       "      <th>Source of Recruitment</th>\n",
       "      <th>Allotment Year</th>\n",
       "      <th>Cadre</th>\n",
       "      <th>Qual 1</th>\n",
       "      <th>Qual 2</th>\n",
       "      <th>Spec 1</th>\n",
       "      <th>Spec 2</th>\n",
       "      <th>Domicile</th>\n",
       "      <th>Current Post</th>\n",
       "      <th>Department</th>\n",
       "      <th>Location</th>\n",
       "      <th>With Effect From Date</th>\n",
       "      <th>Pay Level</th>\n",
       "    </tr>\n",
       "  </thead>\n",
       "  <tbody>\n",
       "    <tr>\n",
       "      <th>0</th>\n",
       "      <td>007600</td>\n",
       "      <td>Shri Pradip Kumar Tripathi</td>\n",
       "      <td>Male</td>\n",
       "      <td>1964-06-18</td>\n",
       "      <td>1987-08-24</td>\n",
       "      <td>RR</td>\n",
       "      <td>1987</td>\n",
       "      <td>UT</td>\n",
       "      <td>B.E.</td>\n",
       "      <td>M.Tech</td>\n",
       "      <td>Civil Engg</td>\n",
       "      <td>Structural Engg</td>\n",
       "      <td>Uttar Pradesh</td>\n",
       "      <td>Secretary (Coordination)</td>\n",
       "      <td>Cabinet Secretariat</td>\n",
       "      <td>New Delhi</td>\n",
       "      <td>2022-02-05</td>\n",
       "      <td>Level 17</td>\n",
       "    </tr>\n",
       "    <tr>\n",
       "      <th>1</th>\n",
       "      <td>018400</td>\n",
       "      <td>Shri Naresh Kumar</td>\n",
       "      <td>Male</td>\n",
       "      <td>1963-11-18</td>\n",
       "      <td>1987-08-24</td>\n",
       "      <td>RR</td>\n",
       "      <td>1987</td>\n",
       "      <td>UT</td>\n",
       "      <td>B.E.</td>\n",
       "      <td>M.B.A.</td>\n",
       "      <td>Mech. Engg.</td>\n",
       "      <td>Public Admn</td>\n",
       "      <td>Delhi</td>\n",
       "      <td>Chief Secretary</td>\n",
       "      <td>Govt. of National capital Territory of Delhi (...</td>\n",
       "      <td>Delhi</td>\n",
       "      <td>2022-04-21</td>\n",
       "      <td>Level 17</td>\n",
       "    </tr>\n",
       "    <tr>\n",
       "      <th>2</th>\n",
       "      <td>018800</td>\n",
       "      <td>Shri Chetan Bhushan Sanghi</td>\n",
       "      <td>Male</td>\n",
       "      <td>1965-06-26</td>\n",
       "      <td>1988-08-25</td>\n",
       "      <td>RR</td>\n",
       "      <td>1988</td>\n",
       "      <td>UT</td>\n",
       "      <td>M.A.</td>\n",
       "      <td>B.Sc.</td>\n",
       "      <td>Public Policy</td>\n",
       "      <td>Hons</td>\n",
       "      <td>Andhra Pradesh</td>\n",
       "      <td>Financial Commissioner</td>\n",
       "      <td>Govt. of National capital Territory of Delhi (...</td>\n",
       "      <td>New Delhi</td>\n",
       "      <td>2021-01-04</td>\n",
       "      <td>Level 17</td>\n",
       "    </tr>\n",
       "    <tr>\n",
       "      <th>3</th>\n",
       "      <td>019002</td>\n",
       "      <td>Dr.(Ms.) Renu Sharma</td>\n",
       "      <td>Female</td>\n",
       "      <td>1964-10-19</td>\n",
       "      <td>1988-08-25</td>\n",
       "      <td>RR</td>\n",
       "      <td>1988</td>\n",
       "      <td>UT</td>\n",
       "      <td>M.Phil</td>\n",
       "      <td>Ph.D.</td>\n",
       "      <td>Political Sc.</td>\n",
       "      <td>Political Sc.</td>\n",
       "      <td>Delhi</td>\n",
       "      <td>Chief Secretary to Government of Mizoram</td>\n",
       "      <td>NaN</td>\n",
       "      <td>Aizawl (Mizoram)</td>\n",
       "      <td>2021-02-11</td>\n",
       "      <td>Level 17</td>\n",
       "    </tr>\n",
       "    <tr>\n",
       "      <th>4</th>\n",
       "      <td>008200</td>\n",
       "      <td>Shri Atal Dulloo</td>\n",
       "      <td>Male</td>\n",
       "      <td>1966-10-24</td>\n",
       "      <td>1989-08-21</td>\n",
       "      <td>RR</td>\n",
       "      <td>1989</td>\n",
       "      <td>UT</td>\n",
       "      <td>B.Tech</td>\n",
       "      <td>NaN</td>\n",
       "      <td>Civil Engg</td>\n",
       "      <td>NaN</td>\n",
       "      <td>Jammu &amp; Kashmir</td>\n",
       "      <td>Chief Secretary</td>\n",
       "      <td>NaN</td>\n",
       "      <td>Jammu &amp; Kashmir</td>\n",
       "      <td>2023-01-12</td>\n",
       "      <td>Level 17</td>\n",
       "    </tr>\n",
       "  </tbody>\n",
       "</table>\n",
       "</div>"
      ],
      "text/plain": [
       "       ID                        Name  Gender         DOB Date of Appointment  \\\n",
       "0  007600  Shri Pradip Kumar Tripathi    Male  1964-06-18          1987-08-24   \n",
       "1  018400           Shri Naresh Kumar    Male  1963-11-18          1987-08-24   \n",
       "2  018800  Shri Chetan Bhushan Sanghi    Male  1965-06-26          1988-08-25   \n",
       "3  019002        Dr.(Ms.) Renu Sharma  Female  1964-10-19          1988-08-25   \n",
       "4  008200            Shri Atal Dulloo    Male  1966-10-24          1989-08-21   \n",
       "\n",
       "  Source of Recruitment Allotment Year Cadre  Qual 1  Qual 2         Spec 1  \\\n",
       "0                    RR           1987    UT    B.E.  M.Tech     Civil Engg   \n",
       "1                    RR           1987    UT    B.E.  M.B.A.    Mech. Engg.   \n",
       "2                    RR           1988    UT    M.A.   B.Sc.  Public Policy   \n",
       "3                    RR           1988    UT  M.Phil   Ph.D.  Political Sc.   \n",
       "4                    RR           1989    UT  B.Tech     NaN     Civil Engg   \n",
       "\n",
       "            Spec 2         Domicile                              Current Post  \\\n",
       "0  Structural Engg    Uttar Pradesh                  Secretary (Coordination)   \n",
       "1      Public Admn            Delhi                           Chief Secretary   \n",
       "2             Hons   Andhra Pradesh                    Financial Commissioner   \n",
       "3    Political Sc.            Delhi  Chief Secretary to Government of Mizoram   \n",
       "4              NaN  Jammu & Kashmir                           Chief Secretary   \n",
       "\n",
       "                                          Department          Location  \\\n",
       "0                                Cabinet Secretariat         New Delhi   \n",
       "1  Govt. of National capital Territory of Delhi (...             Delhi   \n",
       "2  Govt. of National capital Territory of Delhi (...         New Delhi   \n",
       "3                                                NaN  Aizawl (Mizoram)   \n",
       "4                                                NaN   Jammu & Kashmir   \n",
       "\n",
       "  With Effect From Date Pay Level  \n",
       "0            2022-02-05  Level 17  \n",
       "1            2022-04-21  Level 17  \n",
       "2            2021-01-04  Level 17  \n",
       "3            2021-02-11  Level 17  \n",
       "4            2023-01-12  Level 17  "
      ]
     },
     "execution_count": 37,
     "metadata": {},
     "output_type": "execute_result"
    }
   ],
   "source": [
    "data = pd.read_csv('IAS.csv')\n",
    "dcopy = data.copy()\n",
    "data.head()"
   ]
  },
  {
   "cell_type": "code",
   "execution_count": 38,
   "id": "AfW9VSizzgmi",
   "metadata": {
    "colab": {
     "base_uri": "https://localhost:8080/"
    },
    "executionInfo": {
     "elapsed": 29,
     "status": "ok",
     "timestamp": 1714298512095,
     "user": {
      "displayName": "2023 18012",
      "userId": "12537447585000372464"
     },
     "user_tz": -330
    },
    "id": "AfW9VSizzgmi",
    "outputId": "00772b29-12dd-435d-fd89-ff0afeabde43"
   },
   "outputs": [
    {
     "name": "stdout",
     "output_type": "stream",
     "text": [
      "Shape: (5542, 18)\n"
     ]
    }
   ],
   "source": [
    "print(f'Shape: {data.shape}')"
   ]
  },
  {
   "cell_type": "markdown",
   "id": "ENAnjGCQik7N",
   "metadata": {
    "id": "ENAnjGCQik7N"
   },
   "source": [
    "Information of Features"
   ]
  },
  {
   "cell_type": "code",
   "execution_count": 39,
   "id": "16477c90-3e97-49ea-a348-9efabce38e39",
   "metadata": {
    "colab": {
     "base_uri": "https://localhost:8080/"
    },
    "executionInfo": {
     "elapsed": 27,
     "status": "ok",
     "timestamp": 1714298512096,
     "user": {
      "displayName": "2023 18012",
      "userId": "12537447585000372464"
     },
     "user_tz": -330
    },
    "id": "16477c90-3e97-49ea-a348-9efabce38e39",
    "outputId": "916dae49-170c-4d21-b29b-ed82ef216ead",
    "scrolled": true
   },
   "outputs": [
    {
     "name": "stdout",
     "output_type": "stream",
     "text": [
      "<class 'pandas.core.frame.DataFrame'>\n",
      "RangeIndex: 5542 entries, 0 to 5541\n",
      "Data columns (total 18 columns):\n",
      " #   Column                 Non-Null Count  Dtype \n",
      "---  ------                 --------------  ----- \n",
      " 0   ID                     5542 non-null   object\n",
      " 1   Name                   5542 non-null   object\n",
      " 2   Gender                 5542 non-null   object\n",
      " 3   DOB                    5542 non-null   object\n",
      " 4   Date of Appointment    5542 non-null   object\n",
      " 5   Source of Recruitment  5542 non-null   object\n",
      " 6   Allotment Year         5542 non-null   object\n",
      " 7   Cadre                  5542 non-null   object\n",
      " 8   Qual 1                 5537 non-null   object\n",
      " 9   Qual 2                 1760 non-null   object\n",
      " 10  Spec 1                 2983 non-null   object\n",
      " 11  Spec 2                 1091 non-null   object\n",
      " 12  Domicile               5026 non-null   object\n",
      " 13  Current Post           5535 non-null   object\n",
      " 14  Department             3482 non-null   object\n",
      " 15  Location               5344 non-null   object\n",
      " 16  With Effect From Date  5305 non-null   object\n",
      " 17  Pay Level              5542 non-null   object\n",
      "dtypes: object(18)\n",
      "memory usage: 779.5+ KB\n"
     ]
    }
   ],
   "source": [
    "data.info()"
   ]
  },
  {
   "cell_type": "markdown",
   "id": "hgx8nnJfiqvY",
   "metadata": {
    "id": "hgx8nnJfiqvY"
   },
   "source": [
    "Getting Value Counts of Features"
   ]
  },
  {
   "cell_type": "code",
   "execution_count": 40,
   "id": "089e31c1-da31-4430-94ad-da62a1e4c291",
   "metadata": {
    "colab": {
     "base_uri": "https://localhost:8080/"
    },
    "executionInfo": {
     "elapsed": 24,
     "status": "ok",
     "timestamp": 1714298512096,
     "user": {
      "displayName": "2023 18012",
      "userId": "12537447585000372464"
     },
     "user_tz": -330
    },
    "id": "089e31c1-da31-4430-94ad-da62a1e4c291",
    "outputId": "d85f51cc-9a6c-4184-8bb7-2e98a0c6fb1f"
   },
   "outputs": [
    {
     "data": {
      "text/plain": [
       "Male      3769\n",
       "Female    1773\n",
       "Name: Gender, dtype: int64"
      ]
     },
     "execution_count": 40,
     "metadata": {},
     "output_type": "execute_result"
    }
   ],
   "source": [
    "data['Gender'].value_counts()"
   ]
  },
  {
   "cell_type": "code",
   "execution_count": 41,
   "id": "90ac4c8f-297d-402d-87ca-d197a62da316",
   "metadata": {
    "colab": {
     "base_uri": "https://localhost:8080/"
    },
    "executionInfo": {
     "elapsed": 21,
     "status": "ok",
     "timestamp": 1714298512097,
     "user": {
      "displayName": "2023 18012",
      "userId": "12537447585000372464"
     },
     "user_tz": -330
    },
    "id": "90ac4c8f-297d-402d-87ca-d197a62da316",
    "outputId": "64099995-35ce-40ac-9851-7d5041900f44"
   },
   "outputs": [
    {
     "data": {
      "text/plain": [
       "Level 12    1228\n",
       "Level 11    1177\n",
       "Level 14     855\n",
       "Level 13     851\n",
       "Level 10     660\n",
       "Level 15     416\n",
       "Level 17     353\n",
       "Level 18       1\n",
       "N.A.           1\n",
       "Name: Pay Level, dtype: int64"
      ]
     },
     "execution_count": 41,
     "metadata": {},
     "output_type": "execute_result"
    }
   ],
   "source": [
    "data['Pay Level'].value_counts()"
   ]
  },
  {
   "cell_type": "markdown",
   "id": "Drvq5w6kivOL",
   "metadata": {
    "id": "Drvq5w6kivOL"
   },
   "source": [
    "Removing null values from target variable"
   ]
  },
  {
   "cell_type": "code",
   "execution_count": 42,
   "id": "956d867f-bbef-4795-86c4-a6830b6920e4",
   "metadata": {
    "colab": {
     "base_uri": "https://localhost:8080/"
    },
    "executionInfo": {
     "elapsed": 17,
     "status": "ok",
     "timestamp": 1714298512097,
     "user": {
      "displayName": "2023 18012",
      "userId": "12537447585000372464"
     },
     "user_tz": -330
    },
    "id": "956d867f-bbef-4795-86c4-a6830b6920e4",
    "outputId": "0ebdb4f2-b5ae-49f8-8666-705af9d93963",
    "scrolled": true
   },
   "outputs": [
    {
     "name": "stdout",
     "output_type": "stream",
     "text": [
      "Number of records dropped:  1\n"
     ]
    }
   ],
   "source": [
    "pay_na = data['Pay Level'].str.strip() == 'N.A.'\n",
    "ind = data[pay_na].index\n",
    "\n",
    "data = data.drop(ind)\n",
    "dcopy = data.copy()\n",
    "\n",
    "print(f'Number of records dropped:  {len(ind)}')"
   ]
  },
  {
   "cell_type": "code",
   "execution_count": 43,
   "id": "f1b6ad1a-0cee-4de0-af8a-3d410365b3be",
   "metadata": {
    "colab": {
     "base_uri": "https://localhost:8080/"
    },
    "executionInfo": {
     "elapsed": 14,
     "status": "ok",
     "timestamp": 1714298512097,
     "user": {
      "displayName": "2023 18012",
      "userId": "12537447585000372464"
     },
     "user_tz": -330
    },
    "id": "f1b6ad1a-0cee-4de0-af8a-3d410365b3be",
    "outputId": "ae37f95e-0092-4cc4-bbb5-6c8b1f5fe099",
    "scrolled": true
   },
   "outputs": [
    {
     "data": {
      "text/plain": [
       "UP    574\n",
       "UT    412\n",
       "MP    393\n",
       "MH    346\n",
       "TN    333\n",
       "WB    303\n",
       "KN    273\n",
       "RJ    262\n",
       "GJ    260\n",
       "BH    244\n",
       "AM    213\n",
       "AP    210\n",
       "JH    192\n",
       "PB    191\n",
       "OR    189\n",
       "HY    174\n",
       "TG    169\n",
       "CG    169\n",
       "KL    152\n",
       "HP    113\n",
       "UD    111\n",
       "MN     88\n",
       "TR     77\n",
       "NL     58\n",
       "SK     35\n",
       "Name: Cadre, dtype: int64"
      ]
     },
     "execution_count": 43,
     "metadata": {},
     "output_type": "execute_result"
    }
   ],
   "source": [
    "data['Cadre'].value_counts()\n"
   ]
  },
  {
   "cell_type": "code",
   "execution_count": 44,
   "id": "5d2b8a6b-df4e-4c57-a152-0962f2fd025b",
   "metadata": {
    "colab": {
     "base_uri": "https://localhost:8080/"
    },
    "executionInfo": {
     "elapsed": 9,
     "status": "ok",
     "timestamp": 1714298512549,
     "user": {
      "displayName": "2023 18012",
      "userId": "12537447585000372464"
     },
     "user_tz": -330
    },
    "id": "5d2b8a6b-df4e-4c57-a152-0962f2fd025b",
    "outputId": "2164edd1-8a3c-4706-ce94-a1edebf0e682"
   },
   "outputs": [
    {
     "data": {
      "text/plain": [
       "RR         3986\n",
       "SCS        1419\n",
       "Non-SCS     136\n",
       "Name: Source of Recruitment, dtype: int64"
      ]
     },
     "execution_count": 44,
     "metadata": {},
     "output_type": "execute_result"
    }
   ],
   "source": [
    "data['Source of Recruitment'].value_counts()"
   ]
  },
  {
   "cell_type": "markdown",
   "id": "moC0R_PMjC9d",
   "metadata": {
    "id": "moC0R_PMjC9d"
   },
   "source": [
    "Deriving Age, Service Tenure (Overall) and Current Posting Tenure"
   ]
  },
  {
   "cell_type": "code",
   "execution_count": 45,
   "id": "ace1c397-275c-4846-acf5-bdad215ff315",
   "metadata": {
    "id": "ace1c397-275c-4846-acf5-bdad215ff315",
    "scrolled": true
   },
   "outputs": [],
   "source": [
    "\n",
    "def get_curr_tenure(x):\n",
    "\n",
    "    if type(x) == pd._libs.tslibs.nattype.NaTType:\n",
    "        return np.nan\n",
    "    else:\n",
    "        x = np.floor((x.components.days) / 365).astype('int')\n",
    "        if x < 0:  return np.nan\n",
    "        else:  return x\n",
    "\n",
    "\n",
    "data['Date of Appointment'] = pd.to_datetime(data['Date of Appointment'])\n",
    "date_of_appointment = data['Date of Appointment']\n",
    "data['Allotment Year'] = date_of_appointment.dt.year.astype('int')\n",
    "\n",
    "data['DOB'] = pd.to_datetime(data['DOB'])\n",
    "dob = data['DOB']\n",
    "\n",
    "data['With Effect From Date'] = pd.to_datetime(data['With Effect From Date'])\n",
    "wef_date = data['With Effect From Date']\n",
    "\n",
    "today = pd.Timestamp.today().to_datetime64()\n",
    "\n",
    "age = (today - dob)\n",
    "service_tenure = (today - date_of_appointment)\n",
    "current_tenure = (today - wef_date)\n",
    "\n",
    "service_tenure = service_tenure.apply(lambda x: np.floor((x.components.days) / 365).astype('int'))\n",
    "age = age.apply(lambda x: np.floor((x.components.days) / 365).astype('int'))\n",
    "current_tenure = current_tenure.apply(get_curr_tenure)\n"
   ]
  },
  {
   "cell_type": "code",
   "execution_count": 46,
   "id": "534e82a9-6f7e-4672-b175-1c28dd8afa45",
   "metadata": {
    "colab": {
     "base_uri": "https://localhost:8080/"
    },
    "executionInfo": {
     "elapsed": 6,
     "status": "ok",
     "timestamp": 1714298512549,
     "user": {
      "displayName": "2023 18012",
      "userId": "12537447585000372464"
     },
     "user_tz": -330
    },
    "id": "534e82a9-6f7e-4672-b175-1c28dd8afa45",
    "outputId": "b2f193d4-6455-4c55-add1-ab86e6092eeb",
    "scrolled": true
   },
   "outputs": [
    {
     "data": {
      "text/plain": [
       "2021-05-12    179\n",
       "2022-08-29    179\n",
       "2020-12-10    167\n",
       "2013-02-09    167\n",
       "2023-07-31    151\n",
       "             ... \n",
       "1989-08-29      1\n",
       "2011-04-29      1\n",
       "2019-11-04      1\n",
       "2019-08-28      1\n",
       "2023-12-06      1\n",
       "Name: Date of Appointment, Length: 485, dtype: int64"
      ]
     },
     "execution_count": 46,
     "metadata": {},
     "output_type": "execute_result"
    }
   ],
   "source": [
    "data['Date of Appointment'].value_counts()"
   ]
  },
  {
   "cell_type": "code",
   "execution_count": 47,
   "id": "920486a1-816d-4fe3-a916-b8e22c979e89",
   "metadata": {
    "colab": {
     "base_uri": "https://localhost:8080/"
    },
    "executionInfo": {
     "elapsed": 6,
     "status": "ok",
     "timestamp": 1714298512550,
     "user": {
      "displayName": "2023 18012",
      "userId": "12537447585000372464"
     },
     "user_tz": -330
    },
    "id": "920486a1-816d-4fe3-a916-b8e22c979e89",
    "outputId": "0d24e625-fe6e-438c-c525-b209e9569750",
    "scrolled": true
   },
   "outputs": [
    {
     "data": {
      "text/plain": [
       "2024-01-01    83\n",
       "2023-03-04    55\n",
       "2023-10-16    53\n",
       "2023-05-22    52\n",
       "2023-10-04    47\n",
       "              ..\n",
       "2019-03-01     1\n",
       "2023-03-06     1\n",
       "2016-01-12     1\n",
       "2022-07-20     1\n",
       "2022-05-04     1\n",
       "Name: With Effect From Date, Length: 1094, dtype: int64"
      ]
     },
     "execution_count": 47,
     "metadata": {},
     "output_type": "execute_result"
    }
   ],
   "source": [
    "data['With Effect From Date'].dt.year.value_counts()\n",
    "data['With Effect From Date'].value_counts()"
   ]
  },
  {
   "cell_type": "markdown",
   "id": "PDSI4t_X5qC7",
   "metadata": {
    "id": "PDSI4t_X5qC7"
   },
   "source": [
    "## Handling Missing Values"
   ]
  },
  {
   "cell_type": "markdown",
   "id": "HMkJvAKAjQZQ",
   "metadata": {
    "id": "HMkJvAKAjQZQ"
   },
   "source": [
    "Percentage of null values in each column"
   ]
  },
  {
   "cell_type": "code",
   "execution_count": 48,
   "id": "vVNUOf4e3SUh",
   "metadata": {
    "colab": {
     "base_uri": "https://localhost:8080/"
    },
    "executionInfo": {
     "elapsed": 5,
     "status": "ok",
     "timestamp": 1714298512550,
     "user": {
      "displayName": "2023 18012",
      "userId": "12537447585000372464"
     },
     "user_tz": -330
    },
    "id": "vVNUOf4e3SUh",
    "outputId": "c8fcb209-9868-4341-de35-e97de3d22007"
   },
   "outputs": [
    {
     "data": {
      "text/plain": [
       "ID                        0.00\n",
       "Name                      0.00\n",
       "Gender                    0.00\n",
       "DOB                       0.00\n",
       "Date of Appointment       0.00\n",
       "Source of Recruitment     0.00\n",
       "Allotment Year            0.00\n",
       "Cadre                     0.00\n",
       "Qual 1                    0.09\n",
       "Qual 2                   68.24\n",
       "Spec 1                   46.16\n",
       "Spec 2                   80.31\n",
       "Domicile                  9.31\n",
       "Current Post              0.13\n",
       "Department               37.16\n",
       "Location                  3.56\n",
       "With Effect From Date     4.26\n",
       "Pay Level                 0.00\n",
       "dtype: float64"
      ]
     },
     "execution_count": 48,
     "metadata": {},
     "output_type": "execute_result"
    }
   ],
   "source": [
    "np.round(data.isnull().mean()*100,2)"
   ]
  },
  {
   "cell_type": "markdown",
   "id": "Eh5UXqcEjYqY",
   "metadata": {
    "id": "Eh5UXqcEjYqY"
   },
   "source": [
    "Visualizing null values in each feature"
   ]
  },
  {
   "cell_type": "code",
   "execution_count": 49,
   "id": "CW8OlNyp1wtv",
   "metadata": {
    "colab": {
     "base_uri": "https://localhost:8080/",
     "height": 724
    },
    "executionInfo": {
     "elapsed": 1898,
     "status": "ok",
     "timestamp": 1714298514444,
     "user": {
      "displayName": "2023 18012",
      "userId": "12537447585000372464"
     },
     "user_tz": -330
    },
    "id": "CW8OlNyp1wtv",
    "outputId": "b2289f30-22d1-4759-dbdb-1a9bfb29ba9d"
   },
   "outputs": [
    {
     "data": {
      "image/png": "[encoded data removed]",
      "text/plain": [
       "<Figure size 2500x1000 with 2 Axes>"
      ]
     },
     "metadata": {},
     "output_type": "display_data"
    }
   ],
   "source": [
    "import missingno as msno\n",
    "msno.matrix(data)\n",
    "plt.title('Matrix of Missing Values of Dataset')\n",
    "plt.xlabel('Names of Variable')\n",
    "plt.show()"
   ]
  },
  {
   "cell_type": "markdown",
   "id": "X0fPysbBjiXa",
   "metadata": {
    "id": "X0fPysbBjiXa"
   },
   "source": [
    "Filling null values of each feature"
   ]
  },
  {
   "cell_type": "code",
   "execution_count": 50,
   "id": "nzEmGJAU2hUr",
   "metadata": {
    "colab": {
     "base_uri": "https://localhost:8080/",
     "height": 379
    },
    "executionInfo": {
     "elapsed": 26,
     "status": "ok",
     "timestamp": 1714298514444,
     "user": {
      "displayName": "2023 18012",
      "userId": "12537447585000372464"
     },
     "user_tz": -330
    },
    "id": "nzEmGJAU2hUr",
    "outputId": "9180c79e-4a80-4c53-cad0-8115fc7a0a30"
   },
   "outputs": [
    {
     "data": {
      "text/html": [
       "<div>\n",
       "<style scoped>\n",
       "    .dataframe tbody tr th:only-of-type {\n",
       "        vertical-align: middle;\n",
       "    }\n",
       "\n",
       "    .dataframe tbody tr th {\n",
       "        vertical-align: top;\n",
       "    }\n",
       "\n",
       "    .dataframe thead th {\n",
       "        text-align: right;\n",
       "    }\n",
       "</style>\n",
       "<table border=\"1\" class=\"dataframe\">\n",
       "  <thead>\n",
       "    <tr style=\"text-align: right;\">\n",
       "      <th></th>\n",
       "      <th>ID</th>\n",
       "      <th>Name</th>\n",
       "      <th>Gender</th>\n",
       "      <th>DOB</th>\n",
       "      <th>Date of Appointment</th>\n",
       "      <th>Source of Recruitment</th>\n",
       "      <th>Allotment Year</th>\n",
       "      <th>Cadre</th>\n",
       "      <th>Qual 1</th>\n",
       "      <th>Qual 2</th>\n",
       "      <th>Spec 1</th>\n",
       "      <th>Spec 2</th>\n",
       "      <th>Domicile</th>\n",
       "      <th>Current Post</th>\n",
       "      <th>Department</th>\n",
       "      <th>Location</th>\n",
       "      <th>With Effect From Date</th>\n",
       "      <th>Pay Level</th>\n",
       "    </tr>\n",
       "  </thead>\n",
       "  <tbody>\n",
       "    <tr>\n",
       "      <th>4</th>\n",
       "      <td>008200</td>\n",
       "      <td>Shri Atal Dulloo</td>\n",
       "      <td>Male</td>\n",
       "      <td>1966-10-24</td>\n",
       "      <td>1989-08-21</td>\n",
       "      <td>RR</td>\n",
       "      <td>1989</td>\n",
       "      <td>UT</td>\n",
       "      <td>B.Tech</td>\n",
       "      <td>NaN</td>\n",
       "      <td>Civil Engg</td>\n",
       "      <td>NaN</td>\n",
       "      <td>Jammu &amp; Kashmir</td>\n",
       "      <td>Chief Secretary</td>\n",
       "      <td>NaN</td>\n",
       "      <td>Jammu &amp; Kashmir</td>\n",
       "      <td>2023-01-12</td>\n",
       "      <td>Level 17</td>\n",
       "    </tr>\n",
       "    <tr>\n",
       "      <th>6</th>\n",
       "      <td>019100</td>\n",
       "      <td>Shri Rajendra Kumar</td>\n",
       "      <td>Male</td>\n",
       "      <td>1966-12-16</td>\n",
       "      <td>1989-08-21</td>\n",
       "      <td>RR</td>\n",
       "      <td>1989</td>\n",
       "      <td>UT</td>\n",
       "      <td>B.Tech</td>\n",
       "      <td>NaN</td>\n",
       "      <td>Electrical Engg.</td>\n",
       "      <td>NaN</td>\n",
       "      <td>Bihar</td>\n",
       "      <td>Under Suspension</td>\n",
       "      <td>NaN</td>\n",
       "      <td>NaN</td>\n",
       "      <td>2016-02-10</td>\n",
       "      <td>Level 15</td>\n",
       "    </tr>\n",
       "    <tr>\n",
       "      <th>9</th>\n",
       "      <td>019300</td>\n",
       "      <td>Shri Dharmendra</td>\n",
       "      <td>Male</td>\n",
       "      <td>1965-09-17</td>\n",
       "      <td>1989-08-21</td>\n",
       "      <td>RR</td>\n",
       "      <td>1989</td>\n",
       "      <td>UT</td>\n",
       "      <td>B.Tech</td>\n",
       "      <td>NaN</td>\n",
       "      <td>Civil Engg</td>\n",
       "      <td>NaN</td>\n",
       "      <td>Uttar Pradesh</td>\n",
       "      <td>Chief Secretary</td>\n",
       "      <td>Govt of Arunachal Pradesh</td>\n",
       "      <td>Itanagar</td>\n",
       "      <td>2022-04-19</td>\n",
       "      <td>Level 17</td>\n",
       "    </tr>\n",
       "    <tr>\n",
       "      <th>11</th>\n",
       "      <td>008300</td>\n",
       "      <td>Shri Raj Kumar Goyal</td>\n",
       "      <td>Male</td>\n",
       "      <td>1965-10-08</td>\n",
       "      <td>1990-08-20</td>\n",
       "      <td>RR</td>\n",
       "      <td>1990</td>\n",
       "      <td>UT</td>\n",
       "      <td>B.E.</td>\n",
       "      <td>NaN</td>\n",
       "      <td>Electronics</td>\n",
       "      <td>NaN</td>\n",
       "      <td>Uttar Pradesh</td>\n",
       "      <td>Secretary</td>\n",
       "      <td>Border Management</td>\n",
       "      <td>New Delhi</td>\n",
       "      <td>2024-03-02</td>\n",
       "      <td>Level 17</td>\n",
       "    </tr>\n",
       "    <tr>\n",
       "      <th>13</th>\n",
       "      <td>020000</td>\n",
       "      <td>Ms. Debashree Mukherjee</td>\n",
       "      <td>Female</td>\n",
       "      <td>1968-11-19</td>\n",
       "      <td>1991-09-15</td>\n",
       "      <td>RR</td>\n",
       "      <td>1991</td>\n",
       "      <td>UT</td>\n",
       "      <td>M.A.</td>\n",
       "      <td>NaN</td>\n",
       "      <td>English Lit</td>\n",
       "      <td>NaN</td>\n",
       "      <td>Madhya Pradesh</td>\n",
       "      <td>Secretary</td>\n",
       "      <td>D/o Water Resources</td>\n",
       "      <td>New Delhi</td>\n",
       "      <td>2023-01-10</td>\n",
       "      <td>Level 17</td>\n",
       "    </tr>\n",
       "  </tbody>\n",
       "</table>\n",
       "</div>"
      ],
      "text/plain": [
       "        ID                     Name  Gender        DOB Date of Appointment  \\\n",
       "4   008200         Shri Atal Dulloo    Male 1966-10-24          1989-08-21   \n",
       "6   019100      Shri Rajendra Kumar    Male 1966-12-16          1989-08-21   \n",
       "9   019300         Shri Dharmendra     Male 1965-09-17          1989-08-21   \n",
       "11  008300     Shri Raj Kumar Goyal    Male 1965-10-08          1990-08-20   \n",
       "13  020000  Ms. Debashree Mukherjee  Female 1968-11-19          1991-09-15   \n",
       "\n",
       "   Source of Recruitment  Allotment Year Cadre  Qual 1 Qual 2  \\\n",
       "4                     RR            1989    UT  B.Tech    NaN   \n",
       "6                     RR            1989    UT  B.Tech    NaN   \n",
       "9                     RR            1989    UT  B.Tech    NaN   \n",
       "11                    RR            1990    UT    B.E.    NaN   \n",
       "13                    RR            1991    UT    M.A.    NaN   \n",
       "\n",
       "              Spec 1 Spec 2         Domicile      Current Post  \\\n",
       "4         Civil Engg    NaN  Jammu & Kashmir   Chief Secretary   \n",
       "6   Electrical Engg.    NaN            Bihar  Under Suspension   \n",
       "9         Civil Engg    NaN    Uttar Pradesh   Chief Secretary   \n",
       "11       Electronics    NaN    Uttar Pradesh         Secretary   \n",
       "13       English Lit    NaN   Madhya Pradesh         Secretary   \n",
       "\n",
       "                   Department         Location With Effect From Date Pay Level  \n",
       "4                         NaN  Jammu & Kashmir            2023-01-12  Level 17  \n",
       "6                         NaN              NaN            2016-02-10  Level 15  \n",
       "9   Govt of Arunachal Pradesh         Itanagar            2022-04-19  Level 17  \n",
       "11          Border Management        New Delhi            2024-03-02  Level 17  \n",
       "13        D/o Water Resources        New Delhi            2023-01-10  Level 17  "
      ]
     },
     "execution_count": 50,
     "metadata": {},
     "output_type": "execute_result"
    }
   ],
   "source": [
    "c = data['Qual 2'].isnull()\n",
    "ind = data[c].index\n",
    "\n",
    "\n",
    "data.loc[ind, :].head()\n"
   ]
  },
  {
   "cell_type": "markdown",
   "id": "02DKZO1i-hwo",
   "metadata": {
    "id": "02DKZO1i-hwo"
   },
   "source": [
    "* **Qual 2**  "
   ]
  },
  {
   "cell_type": "code",
   "execution_count": 51,
   "id": "L-1LwWu_6DrV",
   "metadata": {
    "colab": {
     "base_uri": "https://localhost:8080/"
    },
    "executionInfo": {
     "elapsed": 25,
     "status": "ok",
     "timestamp": 1714298514445,
     "user": {
      "displayName": "2023 18012",
      "userId": "12537447585000372464"
     },
     "user_tz": -330
    },
    "id": "L-1LwWu_6DrV",
    "outputId": "1e8d36fd-05cc-4f67-a4d9-d5d71a9b4bbe"
   },
   "outputs": [
    {
     "data": {
      "text/plain": [
       "N/A                  3781\n",
       "M.A.                  371\n",
       "M.B.A.                163\n",
       "B.A.                  153\n",
       "LL.B.                 139\n",
       "B.Sc.                 125\n",
       "B.E.                  111\n",
       "B.Tech                102\n",
       "M.Sc.                  88\n",
       "M.Tech                 68\n",
       "M.Phil                 64\n",
       "PG Diploma             59\n",
       "Ph.D.                  53\n",
       "B.Com.                 40\n",
       "B.Ed.                  36\n",
       "M.P.A.                 26\n",
       "P.G.                   24\n",
       "LL.M.                  15\n",
       "Diploma                14\n",
       "M.B.B.S.               13\n",
       "Chartered Acctt.       11\n",
       "M.Com.                 10\n",
       "M.P.M.                 10\n",
       "B.V.Sc & A.H            9\n",
       "M.I.D.P.                7\n",
       "M.E.                    7\n",
       "Post Doctorate          7\n",
       "M.D.                    6\n",
       "M.V.Sc.                 4\n",
       "ICWAI                   4\n",
       "M.B.L                   3\n",
       "Company Secretary       3\n",
       "Graduate                3\n",
       "B.H.M.S.                2\n",
       "M.Ed.                   2\n",
       "Ph.D.                   1\n",
       "B.A. LL.B.              1\n",
       "M.C.A.                  1\n",
       "B.A.M.S.                1\n",
       "Certificate             1\n",
       "Cost Accountant         1\n",
       "B.B.A.                  1\n",
       "Master                  1\n",
       "Name: Qual 2, dtype: int64"
      ]
     },
     "execution_count": 51,
     "metadata": {},
     "output_type": "execute_result"
    }
   ],
   "source": [
    "data['Qual 2'] = data['Qual 2'].fillna(\"N/A\")\n",
    "data['Qual 2'].value_counts()"
   ]
  },
  {
   "cell_type": "markdown",
   "id": "ZmQp7Ula-fOl",
   "metadata": {
    "id": "ZmQp7Ula-fOl"
   },
   "source": [
    "* **Spec 2**"
   ]
  },
  {
   "cell_type": "code",
   "execution_count": 52,
   "id": "7QEnI-l8-T2q",
   "metadata": {
    "colab": {
     "base_uri": "https://localhost:8080/"
    },
    "executionInfo": {
     "elapsed": 23,
     "status": "ok",
     "timestamp": 1714298514445,
     "user": {
      "displayName": "2023 18012",
      "userId": "12537447585000372464"
     },
     "user_tz": -330
    },
    "id": "7QEnI-l8-T2q",
    "outputId": "3fcba1c3-0dc0-4eca-9ade-96b0e1cef0b3"
   },
   "outputs": [
    {
     "data": {
      "text/plain": [
       "N/A                   4450\n",
       "Hons                    80\n",
       "Economics               75\n",
       "Public Mgmt             64\n",
       "Mech. Engg.             47\n",
       "                      ... \n",
       "Quality Management       1\n",
       "Fibre Sc.&tech.          1\n",
       "Tourism                  1\n",
       "Development              1\n",
       "Safety Engg.             1\n",
       "Name: Spec 2, Length: 171, dtype: int64"
      ]
     },
     "execution_count": 52,
     "metadata": {},
     "output_type": "execute_result"
    }
   ],
   "source": [
    "data['Spec 2'] = data['Spec 2'].fillna(\"N/A\")\n",
    "data['Spec 2'].value_counts()"
   ]
  },
  {
   "cell_type": "markdown",
   "id": "1H2ysRKH_GCv",
   "metadata": {
    "id": "1H2ysRKH_GCv"
   },
   "source": [
    "* Spec 1"
   ]
  },
  {
   "cell_type": "code",
   "execution_count": 53,
   "id": "PmM5XYzm_TRU",
   "metadata": {
    "colab": {
     "base_uri": "https://localhost:8080/"
    },
    "executionInfo": {
     "elapsed": 21,
     "status": "ok",
     "timestamp": 1714298514445,
     "user": {
      "displayName": "2023 18012",
      "userId": "12537447585000372464"
     },
     "user_tz": -330
    },
    "id": "PmM5XYzm_TRU",
    "outputId": "ccacef5e-ab23-4242-bc91-af2e917c747e"
   },
   "outputs": [
    {
     "data": {
      "text/plain": [
       "N/A                 2558\n",
       "Mech. Engg.          194\n",
       "Hons                 190\n",
       "Electrical Engg.     185\n",
       "Economics            182\n",
       "                    ... \n",
       "Banking Law            1\n",
       "Sino-burmese Rl        1\n",
       "Sahitya Visharad       1\n",
       "Kannada                1\n",
       "Thermal Eng.           1\n",
       "Name: Spec 1, Length: 228, dtype: int64"
      ]
     },
     "execution_count": 53,
     "metadata": {},
     "output_type": "execute_result"
    }
   ],
   "source": [
    "data['Spec 1'] = data['Spec 1'].fillna(\"N/A\")\n",
    "data['Spec 1'].value_counts()\n"
   ]
  },
  {
   "cell_type": "markdown",
   "id": "BGJN5dGzjtaL",
   "metadata": {
    "id": "BGJN5dGzjtaL"
   },
   "source": [
    "Imputing null value of Qual 1 with most frequent value"
   ]
  },
  {
   "cell_type": "markdown",
   "id": "XOriN3Ir-2bO",
   "metadata": {
    "id": "XOriN3Ir-2bO"
   },
   "source": [
    "* Qual 1"
   ]
  },
  {
   "cell_type": "code",
   "execution_count": 54,
   "id": "WZV40C1077tn",
   "metadata": {
    "colab": {
     "base_uri": "https://localhost:8080/"
    },
    "executionInfo": {
     "elapsed": 19,
     "status": "ok",
     "timestamp": 1714298514445,
     "user": {
      "displayName": "2023 18012",
      "userId": "12537447585000372464"
     },
     "user_tz": -330
    },
    "id": "WZV40C1077tn",
    "outputId": "4398d55a-e86b-43d8-a7c8-fbd4cffcfc58"
   },
   "outputs": [
    {
     "name": "stdout",
     "output_type": "stream",
     "text": [
      "Null Values of Qual 1 filled with most frequent i.e. B.Tech\n"
     ]
    }
   ],
   "source": [
    "qual1_mode = data['Qual 1'].mode()[0]\n",
    "data['Qual 1']  =  data['Qual 1'].fillna(qual1_mode)\n",
    "\n",
    "print(f'Null Values of Qual 1 filled with most frequent i.e. {qual1_mode}')"
   ]
  },
  {
   "cell_type": "markdown",
   "id": "kL_3ibCsj1h_",
   "metadata": {
    "id": "kL_3ibCsj1h_"
   },
   "source": [
    "Categorizing Level of Educational Qualification"
   ]
  },
  {
   "cell_type": "code",
   "execution_count": 55,
   "id": "moCnXiWfsXjP",
   "metadata": {
    "id": "moCnXiWfsXjP"
   },
   "outputs": [],
   "source": [
    "def get_qual_type(x):\n",
    "\n",
    "    if x == 'N/A':  return 0\n",
    "    x = x.strip()\n",
    "\n",
    "    if x in ['M.B.B.S.', 'B.H.M.S.']:  return 1\n",
    "    elif x == 'Ph.D.':  return 3\n",
    "    elif 'M' in x:  return 2\n",
    "    elif 'P' in x and 'G' in x:  return 2\n",
    "    else:  return 1\n",
    "\n",
    "\n",
    "qual1 = data['Qual 1']\n",
    "qual2 = data['Qual 2']\n",
    "\n",
    "qual1_type = qual1.apply(get_qual_type)\n",
    "qual2_type = qual2.apply(get_qual_type)\n",
    "\n",
    "\n",
    "qual_type = []\n",
    "for i, j in zip(qual1_type, qual2_type):\n",
    "    x = max(i, j)\n",
    "    if x == 1: qual_type.append('Graduate')\n",
    "    elif x == 2: qual_type.append('Post Graduate')\n",
    "    elif x == 3: qual_type.append('Doctorate')\n",
    "    elif x == 0: qual_type.append(np.nan)\n",
    "\n"
   ]
  },
  {
   "cell_type": "markdown",
   "id": "ly7IKzy4RMbE",
   "metadata": {
    "id": "ly7IKzy4RMbE"
   },
   "source": [
    "* Domicile"
   ]
  },
  {
   "cell_type": "code",
   "execution_count": 56,
   "id": "RIBietBry_73",
   "metadata": {
    "id": "RIBietBry_73"
   },
   "outputs": [],
   "source": [
    "data['Domicile'] = data['Domicile'].fillna('N/A')"
   ]
  },
  {
   "cell_type": "code",
   "execution_count": 57,
   "id": "BeuC5iCe7JVe",
   "metadata": {
    "colab": {
     "base_uri": "https://localhost:8080/"
    },
    "executionInfo": {
     "elapsed": 14,
     "status": "ok",
     "timestamp": 1714298514445,
     "user": {
      "displayName": "2023 18012",
      "userId": "12537447585000372464"
     },
     "user_tz": -330
    },
    "id": "BeuC5iCe7JVe",
    "outputId": "03b5466c-5af0-4d6e-9b91-792dc913fe57"
   },
   "outputs": [
    {
     "data": {
      "text/plain": [
       "ID                        0.00\n",
       "Name                      0.00\n",
       "Gender                    0.00\n",
       "DOB                       0.00\n",
       "Date of Appointment       0.00\n",
       "Source of Recruitment     0.00\n",
       "Allotment Year            0.00\n",
       "Cadre                     0.00\n",
       "Qual 1                    0.00\n",
       "Qual 2                    0.00\n",
       "Spec 1                    0.00\n",
       "Spec 2                    0.00\n",
       "Domicile                  0.00\n",
       "Current Post              0.13\n",
       "Department               37.16\n",
       "Location                  3.56\n",
       "With Effect From Date     4.26\n",
       "Pay Level                 0.00\n",
       "dtype: float64"
      ]
     },
     "execution_count": 57,
     "metadata": {},
     "output_type": "execute_result"
    }
   ],
   "source": [
    "np.round(data.isnull().mean()*100, 2)"
   ]
  },
  {
   "cell_type": "markdown",
   "id": "qN_5BkZ4kX7E",
   "metadata": {
    "id": "qN_5BkZ4kX7E"
   },
   "source": [
    "Handling missing values of department names with respect to current post"
   ]
  },
  {
   "cell_type": "markdown",
   "id": "ZfdxcewkRVWf",
   "metadata": {
    "id": "ZfdxcewkRVWf"
   },
   "source": [
    "* Secretary"
   ]
  },
  {
   "cell_type": "code",
   "execution_count": 58,
   "id": "_qssSGTnyOSu",
   "metadata": {
    "id": "_qssSGTnyOSu"
   },
   "outputs": [],
   "source": [
    "\n",
    "def is_secretary(x):\n",
    "  if type(x) == str:\n",
    "    x = x.lower().strip()\n",
    "    return ('chief secretary' in x) or ('secretary to' in x) or ('adviser' in x) or ('advisor' in x) or ('electoral' in x)\n",
    "  return False\n",
    "\n",
    "\n",
    "sec = data['Current Post'].apply(is_secretary)\n",
    "sec_ind = data[sec].index\n",
    "data.loc[sec_ind, 'Department'] = 'Secretariat'\n",
    "\n",
    "\n",
    "data.loc[sec_ind, 'Department'] = np.nan\n",
    "data.loc[3154, 'Department'] = data.loc[3154, 'Location']\n",
    "data.loc[3154, 'Location'] = np.nan\n",
    "\n",
    "data['Location'] = data['Location'].apply(lambda x: x.strip().replace('Govt. of', '').replace('Govt of', '') if type(x) == str else x)\n",
    "\n"
   ]
  },
  {
   "cell_type": "markdown",
   "id": "PzyRHVfVRZYe",
   "metadata": {
    "id": "PzyRHVfVRZYe"
   },
   "source": [
    "* Suspension or Leave"
   ]
  },
  {
   "cell_type": "code",
   "execution_count": 59,
   "id": "YQ-tVK_22nCb",
   "metadata": {
    "id": "YQ-tVK_22nCb"
   },
   "outputs": [],
   "source": [
    "\n",
    "def is_suspended_left_deputation(x):\n",
    "  if type(x) == str:\n",
    "    x = x.lower().strip()\n",
    "    return ('suspension' in x) or ('leave' in x) or ('deputation' in x)\n",
    "  return False\n",
    "\n",
    "\n",
    "suspended = data['Current Post'].apply(is_suspended_left_deputation)\n",
    "sus_ind = data[suspended].index\n",
    "\n",
    "data.loc[sus_ind, ['Department', 'Location']] = np.nan"
   ]
  },
  {
   "cell_type": "markdown",
   "id": "oTTkI1RRRd7u",
   "metadata": {
    "id": "oTTkI1RRRd7u"
   },
   "source": [
    "* Training"
   ]
  },
  {
   "cell_type": "code",
   "execution_count": 60,
   "id": "9xFAVt5IEgOJ",
   "metadata": {
    "id": "9xFAVt5IEgOJ"
   },
   "outputs": [],
   "source": [
    "training = data['Current Post'].apply(lambda x: ('On Training' in x if type(x) == str else False))\n",
    "waiting = data['Current Post'].apply(lambda x: ('waiting' in x.lower() if type(x) == str else False))\n",
    "ind = data[training | waiting].index\n",
    "\n",
    "data.loc[ind, 'Department'] = np.nan\n",
    "\n",
    "lbsnaa = data['Location'].apply(lambda x: 'LBSNAA ' in x if type(x) == str else False)\n",
    "ind2 = data[lbsnaa & training].index\n",
    "data.loc[ind2, 'Current Post'] = data.loc[ind2, 'Current Post'].apply(lambda x: x + ' LBSNAA' )\n",
    "data.loc[ind2, 'Location'] = data.loc[ind2, 'Location'].apply(lambda x: x.replace('LBSNAA ', ''))\n"
   ]
  },
  {
   "cell_type": "markdown",
   "id": "JGf1OarQRh09",
   "metadata": {
    "id": "JGf1OarQRh09"
   },
   "source": [
    "* Current Post (Overall)"
   ]
  },
  {
   "cell_type": "code",
   "execution_count": 61,
   "id": "cCVuBIyU_ARf",
   "metadata": {
    "id": "cCVuBIyU_ARf"
   },
   "outputs": [],
   "source": [
    "null_post = data['Current Post'].isnull()\n",
    "\n",
    "post_ind = data[null_post].index\n",
    "data.loc[1880, 'Department'] = data.loc[1880, 'Current Post']\n",
    "data.loc[1880, 'Department'] = np.nan\n",
    "\n",
    "data.loc[post_ind, 'Current Post'] = 'N/A'"
   ]
  },
  {
   "cell_type": "markdown",
   "id": "l6XARrj6RnFv",
   "metadata": {
    "id": "l6XARrj6RnFv"
   },
   "source": [
    "* Department"
   ]
  },
  {
   "cell_type": "code",
   "execution_count": 62,
   "id": "LrexUACUBAAq",
   "metadata": {
    "id": "LrexUACUBAAq"
   },
   "outputs": [],
   "source": [
    "null_dept = data['Department'].isnull()\n",
    "data[null_dept].to_csv('null_dept.csv', index = False)\n",
    "\n",
    "sec_tr_susp_leave_dept = data[null_dept & ( training | waiting | suspended)].index\n",
    "other_dept = data[null_dept & ~(training | waiting | suspended)].index\n",
    "\n",
    "data.loc[other_dept, 'Department'] = 'N.A.'\n",
    "data.loc[sec_tr_susp_leave_dept, 'Department'] = 'N/A'\n"
   ]
  },
  {
   "cell_type": "markdown",
   "id": "VQicsqEfUNW5",
   "metadata": {
    "id": "VQicsqEfUNW5"
   },
   "source": [
    "Handling Missing Location Values"
   ]
  },
  {
   "cell_type": "code",
   "execution_count": 63,
   "id": "xR2YnkEHUL_B",
   "metadata": {
    "id": "xR2YnkEHUL_B"
   },
   "outputs": [],
   "source": [
    "\n",
    "null_loc = data['Location'].isnull()\n",
    "loc_not_app = suspended | waiting | null_post\n",
    "\n",
    "loc_ind1 = data[loc_not_app].index\n",
    "loc_ind2 = data[null_loc & ~loc_not_app].index\n",
    "\n",
    "\n",
    "data.loc[loc_ind1, ['Current Post', 'Location']]\n",
    "data.loc[loc_ind1, 'Location'] = 'N/A'\n",
    "\n",
    "data.loc[loc_ind2, 'Location'] = 'N.A.'\n"
   ]
  },
  {
   "cell_type": "markdown",
   "id": "K7ZYAiLVZ38p",
   "metadata": {
    "id": "K7ZYAiLVZ38p"
   },
   "source": [
    "Classifying Job Status of Officers"
   ]
  },
  {
   "cell_type": "code",
   "execution_count": 64,
   "id": "_0dEbr6YZ6-o",
   "metadata": {
    "id": "_0dEbr6YZ6-o"
   },
   "outputs": [],
   "source": [
    "\n",
    "data['Qual Type'] = qual_type\n",
    "data['Age'] = age\n",
    "data['Service Tenure'] = service_tenure\n",
    "\n",
    "status1 = training | waiting | suspended\n",
    "status2 = data['Current Post'] == 'N/A'\n",
    "\n",
    "ind = data[status1 | status2].index\n",
    "data['Job Status'] = 'Active'\n",
    "data.loc[ind, 'Job Status'] = 'Inactive'\n",
    "\n",
    "data['Current Tenure'] = current_tenure\n",
    "\n",
    "c = waiting | suspended\n",
    "ind = data[c].index\n",
    "\n",
    "data['With Effect From Date'] = data['With Effect From Date'].fillna('N/A')\n"
   ]
  },
  {
   "cell_type": "markdown",
   "id": "UZN1xFcelzex",
   "metadata": {
    "id": "UZN1xFcelzex"
   },
   "source": [
    "Imputing Current Tenure"
   ]
  },
  {
   "cell_type": "code",
   "execution_count": 65,
   "id": "f521e95b-3c55-47fa-8cae-23d80262a92a",
   "metadata": {
    "id": "f521e95b-3c55-47fa-8cae-23d80262a92a"
   },
   "outputs": [],
   "source": [
    "\n",
    "data.loc[ind, 'Current Tenure']  = 'N/A'\n",
    "\n",
    "c1 = data['Current Tenure'].isnull()\n",
    "c2 = data['With Effect From Date'] != 'N/A'\n",
    "c3 = data['Current Post'] == 'N.A.'\n",
    "c4 = data['Current Post'] == 'N.A.'\n",
    "\n",
    "ind = data[c1 & c2].index\n",
    "data.loc[ind, 'Job Status'] = 'Inactive'\n",
    "\n",
    "ind = data[c1 & (c3 | c4)].index\n",
    "data.loc[ind, 'Job Status'] = 'Inactive'\n",
    "\n",
    "data['Current Tenure'] = data['Current Tenure'].fillna('N/A')\n"
   ]
  },
  {
   "cell_type": "markdown",
   "id": "dGun3VZ2l33k",
   "metadata": {
    "id": "dGun3VZ2l33k"
   },
   "source": [
    "Classifying Current Post"
   ]
  },
  {
   "cell_type": "code",
   "execution_count": 66,
   "id": "Za8VWSpYfHXq",
   "metadata": {
    "id": "Za8VWSpYfHXq"
   },
   "outputs": [],
   "source": [
    "def get_current_post(x):\n",
    "\n",
    "  x = x.lower()\n",
    "\n",
    "  if 'coll' in x:\n",
    "    return 'Collector'\n",
    "  elif 'sec' in x or 'advis' in x:\n",
    "    return 'Secretary'\n",
    "  elif 'comm' in x:\n",
    "    return 'Commissioner'\n",
    "  elif 'manag' in x:\n",
    "    return 'Manager'\n",
    "  elif 'train' in x:\n",
    "    return 'Trainee'\n",
    "  elif 'director' in x:\n",
    "    return 'Director'\n",
    "\n",
    "  elif 'leave' in x or 'wait' in x or 'suspen' in x:\n",
    "    return 'Inactive'\n",
    "\n",
    "  elif 'magistrate' in x:\n",
    "    return 'Magistrate'\n",
    "  elif 'officer' in x:\n",
    "    return 'Officer'\n",
    "\n",
    "  elif 'chair' in x or 'vc' in x or 'v.c.' in x:\n",
    "    return 'Chairman'\n",
    "\n",
    "  else:\n",
    "    return 'Other'\n",
    "\n",
    "\n",
    "data['Post Type'] = data['Current Post'].apply(get_current_post)\n"
   ]
  },
  {
   "cell_type": "markdown",
   "id": "--R_lwOnmA0O",
   "metadata": {
    "id": "--R_lwOnmA0O"
   },
   "source": [
    "Classifying Department Names"
   ]
  },
  {
   "cell_type": "code",
   "execution_count": 67,
   "id": "4e1727ef-c4a2-4a26-9bf1-ff773d3c65b2",
   "metadata": {
    "id": "4e1727ef-c4a2-4a26-9bf1-ff773d3c65b2"
   },
   "outputs": [],
   "source": [
    "def get_dept(x):\n",
    "    x = x.lower()\n",
    "\n",
    "    if 'home' in x:\n",
    "        return 'Home Department'\n",
    "    elif 'agri' in x:\n",
    "        return 'Agriculture Department'\n",
    "    elif 'edu' in x:\n",
    "        return 'Education Department'\n",
    "    elif 'power' in x or 'energy' in x or 'gas' in x or 'petrol' in x:\n",
    "        return 'Energy Department'\n",
    "    elif 'edu' in x:\n",
    "        return 'Education Department'\n",
    "    elif 'labour' in x or 'emp' in x or 'skill' in x:\n",
    "        return 'Labour Department'\n",
    "    elif 'water' in x:\n",
    "        return 'Water Department'\n",
    "    elif 'econom' in x or 'finan' in x or 'reven' in x or 'tax' in x or 'exis' in x:\n",
    "        return 'Finance Department'\n",
    "    elif 'dev' in x or 'hous' in x:\n",
    "        return 'Infrastructure Development Department'\n",
    "    elif 'health' in x or 'med' in x or 'pharma' in x or 'ayu' in x:\n",
    "        return 'Health Department'\n",
    "    elif 'indus' in x or 'commerce' in x or 'ware' in x :\n",
    "        return 'Commerce Department'\n",
    "    elif 'zil' in x or 'dist' in x or 'muni' in x or 'mahanagara' in x:\n",
    "        return 'District Department'\n",
    "    else:\n",
    "        return 'Other Department'\n",
    "\n",
    "data['Department Type'] = data['Department'].apply(get_dept)\n",
    "\n",
    "ind = data[data['Post Type'] == 'Secretary'].index\n",
    "\n",
    "data.loc[ind, 'Department Type'] = 'Secretariat Department'\n",
    "\n",
    "data['Department Type'] = data['Department Type'].fillna('N/A')\n"
   ]
  },
  {
   "cell_type": "markdown",
   "id": "qKwY2tHAmKNV",
   "metadata": {
    "id": "qKwY2tHAmKNV"
   },
   "source": [
    "Filling Null Values of Current Tenure by the help of Job Status, Post Type (Current Post) and With Effect From Date"
   ]
  },
  {
   "cell_type": "code",
   "execution_count": 68,
   "id": "9587b4e5-f803-45a7-be72-090d3ffc0bce",
   "metadata": {
    "colab": {
     "base_uri": "https://localhost:8080/"
    },
    "executionInfo": {
     "elapsed": 17,
     "status": "ok",
     "timestamp": 1714298515158,
     "user": {
      "displayName": "2023 18012",
      "userId": "12537447585000372464"
     },
     "user_tz": -330
    },
    "id": "9587b4e5-f803-45a7-be72-090d3ffc0bce",
    "outputId": "4eebb8a9-a6e5-4ced-cb2c-ca797439df96"
   },
   "outputs": [],
   "source": [
    "\n",
    "c1 = data['Job Status'] == 'Inactive'\n",
    "c2 = data['Post Type'] == 'Inactive'\n",
    "\n",
    "inactive = data[c1 & c2]\n",
    "inactive['With Effect From Date'] = inactive['With Effect From Date'].replace('N/A', np.nan)\n",
    "inactive\n",
    "\n",
    "inactive = inactive[inactive['With Effect From Date'].notnull()]\n",
    "ind = inactive.index\n",
    "\n",
    "inactive_tenure = np.floor((pd.to_datetime(inactive['With Effect From Date']) -\n",
    "          pd.to_datetime(inactive['Date of Appointment'])).dt.components.days / 365)\n",
    "\n",
    "data.loc[ind, 'Current Tenure'] = inactive_tenure\n",
    "\n",
    "data['Current Tenure'] = data['Current Tenure'].replace('N/A', 0)\n"
   ]
  },
  {
   "cell_type": "markdown",
   "id": "03dcfa49-c459-47a0-ba62-e21032b157c8",
   "metadata": {},
   "source": [
    "After handling null values"
   ]
  },
  {
   "cell_type": "code",
   "execution_count": 69,
   "id": "dffba4fa-b6b3-48c4-86a1-77e6b499b5ae",
   "metadata": {},
   "outputs": [
    {
     "data": {
      "image/png": "[encoded data removed]",
      "text/plain": [
       "<Figure size 2500x1000 with 2 Axes>"
      ]
     },
     "metadata": {},
     "output_type": "display_data"
    }
   ],
   "source": [
    "\n",
    "msno.matrix(data)\n",
    "plt.title('Matrix of Missing Values of Dataset')\n",
    "plt.xlabel('Names of Variable')\n",
    "plt.show()"
   ]
  },
  {
   "cell_type": "markdown",
   "id": "Iz8FZBiXmYOA",
   "metadata": {
    "id": "Iz8FZBiXmYOA"
   },
   "source": [
    "Rearranging columns and saving it in a csv file"
   ]
  },
  {
   "cell_type": "code",
   "execution_count": 70,
   "id": "V0442pN8Roq-",
   "metadata": {
    "id": "V0442pN8Roq-"
   },
   "outputs": [],
   "source": [
    "\n",
    "data = data.iloc[:, [0, 1, 2, 3, 19, 12, 4, 6, 20, 5, 7, 8, 9, 18, 10, 11, 13, 23, 14, 24, 15, 21, 16, 22, 17]]\n",
    "\n",
    "data.to_csv('IAS_Cleaned.csv', index=False)\n",
    "\n"
   ]
  }
 ],
 "metadata": {
  "colab": {
   "provenance": []
  },
  "kernelspec": {
   "display_name": "Python 3 (ipykernel)",
   "language": "python",
   "name": "python3"
  },
  "language_info": {
   "codemirror_mode": {
    "name": "ipython",
    "version": 3
   },
   "file_extension": ".py",
   "mimetype": "text/x-python",
   "name": "python",
   "nbconvert_exporter": "python",
   "pygments_lexer": "ipython3",
   "version": "3.10.11"
  }
 },
 "nbformat": 4,
 "nbformat_minor": 5
}
